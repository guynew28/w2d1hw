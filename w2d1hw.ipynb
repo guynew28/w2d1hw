{
 "cells": [
  {
   "cell_type": "markdown",
   "id": "3a249079",
   "metadata": {},
   "source": [
    "## Exercise #1 <br>\n",
    "<p>Cube Number Test... Print out all cubed numbers up to the total value 1000. Meaning that if the cubed number is over 1000 break the loop.</p>\n"
   ]
  },
  {
   "cell_type": "code",
   "execution_count": 114,
   "id": "3ce871b1",
   "metadata": {},
   "outputs": [
    {
     "name": "stdout",
     "output_type": "stream",
     "text": [
      "[0, 1, 8, 27, 64, 125, 216, 343, 512, 729, 1000]\n"
     ]
    }
   ],
   "source": [
    "list_num=[]\n",
    "cube_num=[]\n",
    "for i in range(11):\n",
    "    i=i**3\n",
    "    cube_num.append(i)\n",
    "print(cube_num)\n",
    "\n"
   ]
  },
  {
   "cell_type": "markdown",
   "id": "7bff3526",
   "metadata": {},
   "source": [
    "## Exercise #2 <br>\n",
    "<p>Get first prime numbers up to 100</p>"
   ]
  },
  {
   "cell_type": "code",
   "execution_count": 170,
   "id": "15c1c953",
   "metadata": {},
   "outputs": [],
   "source": [
    "# HINT::\n",
    "# An else after an if runs if the if didn’t\n",
    "# An else after a for runs if the for didn’t break\n",
    "\n"
   ]
  },
  {
   "cell_type": "markdown",
   "id": "9852d083",
   "metadata": {},
   "source": [
    "# Exercise 3 <br>\n",
    "<p>Take in a users input for their age, if they are younger than 18 print kids, if they're 18 to 65 print adults, else print seniors</p>"
   ]
  },
  {
   "cell_type": "code",
   "execution_count": 131,
   "id": "b02f52ce",
   "metadata": {},
   "outputs": [
    {
     "name": "stdout",
     "output_type": "stream",
     "text": [
      "What is your age?66\n",
      "seniors\n"
     ]
    }
   ],
   "source": [
    "age = int(input(\"What is your age?\"))\n",
    "\n",
    "if age < 18:\n",
    "    print('kids')\n",
    "elif age >= 18 and age<=65:\n",
    "    print('adult')\n",
    "else:\n",
    "    print('seniors')\n"
   ]
  }
 ],
 "metadata": {
  "kernelspec": {
   "display_name": "Python 3",
   "language": "python",
   "name": "python3"
  },
  "language_info": {
   "codemirror_mode": {
    "name": "ipython",
    "version": 3
   },
   "file_extension": ".py",
   "mimetype": "text/x-python",
   "name": "python",
   "nbconvert_exporter": "python",
   "pygments_lexer": "ipython3",
   "version": "3.8.8"
  }
 },
 "nbformat": 4,
 "nbformat_minor": 5
}
